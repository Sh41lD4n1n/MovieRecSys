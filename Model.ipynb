{
 "cells": [
  {
   "cell_type": "code",
   "execution_count": 7,
   "id": "503213ae-ce17-42d7-abdd-8816ec4bbc5c",
   "metadata": {},
   "outputs": [],
   "source": [
    "import pandas as pd\n",
    "import numpy as np\n",
    "from sklearn.model_selection import train_test_split\n",
    "import matplotlib.pyplot as plt\n",
    "\n",
    "from model.data_process import load_dataset, get_train_test_val_split, process_dataset"
   ]
  },
  {
   "cell_type": "markdown",
   "id": "84e59169-0075-4487-943c-037266c8ee28",
   "metadata": {},
   "source": [
    "## Read"
   ]
  },
  {
   "cell_type": "code",
   "execution_count": 5,
   "id": "8ff5bda5-837a-4958-bdba-5cb420a83012",
   "metadata": {},
   "outputs": [
    {
     "name": "stdout",
     "output_type": "stream",
     "text": [
      "--2023-05-10 15:00:19--  https://files.grouplens.org/datasets/movielens/ml-latest-small.zip\n",
      "Распознаётся files.grouplens.org (files.grouplens.org)… 128.101.65.152\n",
      "Подключение к files.grouplens.org (files.grouplens.org)|128.101.65.152|:443... соединение установлено.\n",
      "HTTP-запрос отправлен. Ожидание ответа… 200 OK\n",
      "Длина: 978202 (955K) [application/zip]\n",
      "Сохранение в: ‘ml-latest-small.zip’\n",
      "\n",
      "ml-latest-small.zip 100%[===================>] 955,28K   496KB/s    за 1,9s    \n",
      "\n",
      "2023-05-10 15:00:22 (496 KB/s) - ‘ml-latest-small.zip’ сохранён [978202/978202]\n",
      "\n",
      "Archive:  ml-latest-small.zip\n",
      "   creating: ml-latest-small/\n",
      "  inflating: ml-latest-small/links.csv  \n",
      "  inflating: ml-latest-small/tags.csv  \n",
      "  inflating: ml-latest-small/ratings.csv  \n",
      "  inflating: ml-latest-small/README.txt  \n",
      "  inflating: ml-latest-small/movies.csv  \n",
      "ExploreDataset.ipynb  ml-latest-small  ml-latest-small.zip  model\n"
     ]
    }
   ],
   "source": [
    "!wget https://files.grouplens.org/datasets/movielens/ml-latest-small.zip\n",
    "!unzip ml-latest-small.zip\n",
    "!ls"
   ]
  },
  {
   "cell_type": "code",
   "execution_count": 8,
   "id": "3753b1eb-cd68-4d05-801c-ca5cb16923f0",
   "metadata": {},
   "outputs": [
    {
     "data": {
      "text/html": [
       "<div>\n",
       "<style scoped>\n",
       "    .dataframe tbody tr th:only-of-type {\n",
       "        vertical-align: middle;\n",
       "    }\n",
       "\n",
       "    .dataframe tbody tr th {\n",
       "        vertical-align: top;\n",
       "    }\n",
       "\n",
       "    .dataframe thead th {\n",
       "        text-align: right;\n",
       "    }\n",
       "</style>\n",
       "<table border=\"1\" class=\"dataframe\">\n",
       "  <thead>\n",
       "    <tr style=\"text-align: right;\">\n",
       "      <th></th>\n",
       "      <th>userId</th>\n",
       "      <th>movieId</th>\n",
       "      <th>rating</th>\n",
       "      <th>timestamp</th>\n",
       "    </tr>\n",
       "  </thead>\n",
       "  <tbody>\n",
       "    <tr>\n",
       "      <th>0</th>\n",
       "      <td>1</td>\n",
       "      <td>1</td>\n",
       "      <td>4.0</td>\n",
       "      <td>964982703</td>\n",
       "    </tr>\n",
       "    <tr>\n",
       "      <th>1</th>\n",
       "      <td>1</td>\n",
       "      <td>3</td>\n",
       "      <td>4.0</td>\n",
       "      <td>964981247</td>\n",
       "    </tr>\n",
       "    <tr>\n",
       "      <th>2</th>\n",
       "      <td>1</td>\n",
       "      <td>6</td>\n",
       "      <td>4.0</td>\n",
       "      <td>964982224</td>\n",
       "    </tr>\n",
       "  </tbody>\n",
       "</table>\n",
       "</div>"
      ],
      "text/plain": [
       "   userId  movieId  rating  timestamp\n",
       "0       1        1     4.0  964982703\n",
       "1       1        3     4.0  964981247\n",
       "2       1        6     4.0  964982224"
      ]
     },
     "execution_count": 8,
     "metadata": {},
     "output_type": "execute_result"
    }
   ],
   "source": [
    "df = pd.read_csv(\"./ml-latest-small/ratings.csv\")\n",
    "#df.userId.unique()\n",
    "df.head(3)"
   ]
  },
  {
   "cell_type": "markdown",
   "id": "8ab50444-6d10-4dfb-ba1d-b0f7e2e2de1d",
   "metadata": {
    "jp-MarkdownHeadingCollapsed": true,
    "tags": []
   },
   "source": [
    "## Evaluation"
   ]
  },
  {
   "cell_type": "code",
   "execution_count": 3,
   "id": "0ba89871-fe2e-4a43-a5f3-d3d0cdd7d5d8",
   "metadata": {},
   "outputs": [
    {
     "data": {
      "image/png": "[encoded data removed]",
      "text/plain": [
       "<Figure size 640x480 with 1 Axes>"
      ]
     },
     "metadata": {},
     "output_type": "display_data"
    }
   ],
   "source": [
    "number_of_records_per_user = []\n",
    "for u in df.userId.unique():\n",
    "    number_of_records_per_user.append((df.userId == u).sum())\n",
    "plt.bar(x = df.userId.unique(), height=number_of_records_per_user)\n",
    "plt.show()"
   ]
  },
  {
   "cell_type": "code",
   "execution_count": 4,
   "id": "8132ecea-88d7-4d9b-9cae-4c502a2a193e",
   "metadata": {},
   "outputs": [
    {
     "data": {
      "text/html": [
       "<div>\n",
       "<style scoped>\n",
       "    .dataframe tbody tr th:only-of-type {\n",
       "        vertical-align: middle;\n",
       "    }\n",
       "\n",
       "    .dataframe tbody tr th {\n",
       "        vertical-align: top;\n",
       "    }\n",
       "\n",
       "    .dataframe thead th {\n",
       "        text-align: right;\n",
       "    }\n",
       "</style>\n",
       "<table border=\"1\" class=\"dataframe\">\n",
       "  <thead>\n",
       "    <tr style=\"text-align: right;\">\n",
       "      <th></th>\n",
       "      <th>0</th>\n",
       "    </tr>\n",
       "  </thead>\n",
       "  <tbody>\n",
       "    <tr>\n",
       "      <th>count</th>\n",
       "      <td>610.000000</td>\n",
       "    </tr>\n",
       "    <tr>\n",
       "      <th>mean</th>\n",
       "      <td>165.304918</td>\n",
       "    </tr>\n",
       "    <tr>\n",
       "      <th>std</th>\n",
       "      <td>269.480584</td>\n",
       "    </tr>\n",
       "    <tr>\n",
       "      <th>min</th>\n",
       "      <td>20.000000</td>\n",
       "    </tr>\n",
       "    <tr>\n",
       "      <th>25%</th>\n",
       "      <td>35.000000</td>\n",
       "    </tr>\n",
       "    <tr>\n",
       "      <th>50%</th>\n",
       "      <td>70.500000</td>\n",
       "    </tr>\n",
       "    <tr>\n",
       "      <th>75%</th>\n",
       "      <td>168.000000</td>\n",
       "    </tr>\n",
       "    <tr>\n",
       "      <th>max</th>\n",
       "      <td>2698.000000</td>\n",
       "    </tr>\n",
       "  </tbody>\n",
       "</table>\n",
       "</div>"
      ],
      "text/plain": [
       "                 0\n",
       "count   610.000000\n",
       "mean    165.304918\n",
       "std     269.480584\n",
       "min      20.000000\n",
       "25%      35.000000\n",
       "50%      70.500000\n",
       "75%     168.000000\n",
       "max    2698.000000"
      ]
     },
     "execution_count": 4,
     "metadata": {},
     "output_type": "execute_result"
    }
   ],
   "source": [
    "number_of_records_per_user = pd.DataFrame(number_of_records_per_user)\n",
    "number_of_records_per_user.describe()"
   ]
  },
  {
   "cell_type": "markdown",
   "id": "141a5fb9-7b58-4901-830f-cd6627114bef",
   "metadata": {},
   "source": [
    "## Train/val split"
   ]
  },
  {
   "cell_type": "code",
   "execution_count": 4,
   "id": "047e05f4-bb6e-4b86-8b86-fa5cafa1f8fe",
   "metadata": {
    "tags": []
   },
   "outputs": [],
   "source": [
    "train,test,val = get_train_test_val_split(df)"
   ]
  },
  {
   "cell_type": "code",
   "execution_count": 5,
   "id": "8ba4fa59-22ea-4761-96ed-f97b83bfcd71",
   "metadata": {},
   "outputs": [],
   "source": [
    "train = process_dataset(train)\n",
    "val = process_dataset(val)\n",
    "test = process_dataset(test)"
   ]
  },
  {
   "cell_type": "code",
   "execution_count": 6,
   "id": "2555ea4e-8da6-49a0-85eb-0546ff3def58",
   "metadata": {},
   "outputs": [
    {
     "data": {
      "text/html": [
       "<div>\n",
       "<style scoped>\n",
       "    .dataframe tbody tr th:only-of-type {\n",
       "        vertical-align: middle;\n",
       "    }\n",
       "\n",
       "    .dataframe tbody tr th {\n",
       "        vertical-align: top;\n",
       "    }\n",
       "\n",
       "    .dataframe thead th {\n",
       "        text-align: right;\n",
       "    }\n",
       "</style>\n",
       "<table border=\"1\" class=\"dataframe\">\n",
       "  <thead>\n",
       "    <tr style=\"text-align: right;\">\n",
       "      <th></th>\n",
       "      <th>user</th>\n",
       "      <th>item</th>\n",
       "      <th>rating</th>\n",
       "    </tr>\n",
       "  </thead>\n",
       "  <tbody>\n",
       "    <tr>\n",
       "      <th>73</th>\n",
       "      <td>1</td>\n",
       "      <td>1210</td>\n",
       "      <td>5.0</td>\n",
       "    </tr>\n",
       "    <tr>\n",
       "      <th>43</th>\n",
       "      <td>1</td>\n",
       "      <td>804</td>\n",
       "      <td>4.0</td>\n",
       "    </tr>\n",
       "    <tr>\n",
       "      <th>120</th>\n",
       "      <td>1</td>\n",
       "      <td>2018</td>\n",
       "      <td>5.0</td>\n",
       "    </tr>\n",
       "    <tr>\n",
       "      <th>171</th>\n",
       "      <td>1</td>\n",
       "      <td>2628</td>\n",
       "      <td>4.0</td>\n",
       "    </tr>\n",
       "    <tr>\n",
       "      <th>183</th>\n",
       "      <td>1</td>\n",
       "      <td>2826</td>\n",
       "      <td>4.0</td>\n",
       "    </tr>\n",
       "    <tr>\n",
       "      <th>...</th>\n",
       "      <td>...</td>\n",
       "      <td>...</td>\n",
       "      <td>...</td>\n",
       "    </tr>\n",
       "    <tr>\n",
       "      <th>100610</th>\n",
       "      <td>610</td>\n",
       "      <td>101112</td>\n",
       "      <td>3.0</td>\n",
       "    </tr>\n",
       "    <tr>\n",
       "      <th>100022</th>\n",
       "      <td>610</td>\n",
       "      <td>7369</td>\n",
       "      <td>2.5</td>\n",
       "    </tr>\n",
       "    <tr>\n",
       "      <th>100603</th>\n",
       "      <td>610</td>\n",
       "      <td>100163</td>\n",
       "      <td>3.0</td>\n",
       "    </tr>\n",
       "    <tr>\n",
       "      <th>99808</th>\n",
       "      <td>610</td>\n",
       "      <td>4153</td>\n",
       "      <td>3.0</td>\n",
       "    </tr>\n",
       "    <tr>\n",
       "      <th>100565</th>\n",
       "      <td>610</td>\n",
       "      <td>95558</td>\n",
       "      <td>3.5</td>\n",
       "    </tr>\n",
       "  </tbody>\n",
       "</table>\n",
       "<p>70312 rows × 3 columns</p>\n",
       "</div>"
      ],
      "text/plain": [
       "        user    item  rating\n",
       "73         1    1210     5.0\n",
       "43         1     804     4.0\n",
       "120        1    2018     5.0\n",
       "171        1    2628     4.0\n",
       "183        1    2826     4.0\n",
       "...      ...     ...     ...\n",
       "100610   610  101112     3.0\n",
       "100022   610    7369     2.5\n",
       "100603   610  100163     3.0\n",
       "99808    610    4153     3.0\n",
       "100565   610   95558     3.5\n",
       "\n",
       "[70312 rows x 3 columns]"
      ]
     },
     "execution_count": 6,
     "metadata": {},
     "output_type": "execute_result"
    }
   ],
   "source": [
    "train"
   ]
  },
  {
   "cell_type": "markdown",
   "id": "7254a120-f510-4483-8fbd-f1d17272e8ab",
   "metadata": {
    "tags": []
   },
   "source": [
    "## Model ALS"
   ]
  },
  {
   "cell_type": "code",
   "execution_count": null,
   "id": "598e1183-f9b9-4fc8-8767-a04a269f4049",
   "metadata": {
    "tags": []
   },
   "outputs": [],
   "source": [
    "from pyspark.sql import SparkSession\n",
    "\n",
    "spark = SparkSession \\\n",
    "    .builder \\\n",
    "    .appName(\"recommendation\") \\\n",
    "    .getOrCreate()"
   ]
  },
  {
   "cell_type": "code",
   "execution_count": null,
   "id": "49f4903e-ed05-41c9-b3f1-ea72b01cdacf",
   "metadata": {},
   "outputs": [],
   "source": [
    "spark_train = spark.createDataFrame(train)"
   ]
  },
  {
   "cell_type": "code",
   "execution_count": null,
   "id": "7a136a87-4734-4dbf-8470-b243ed40e2a1",
   "metadata": {},
   "outputs": [],
   "source": [
    "spark.stop()"
   ]
  },
  {
   "cell_type": "code",
   "execution_count": null,
   "id": "10ffb7b4-d9c5-4f1d-96c9-ea2ad890b9de",
   "metadata": {},
   "outputs": [],
   "source": [
    "from pyspark.ml.recommendation import ALS\n",
    "\n",
    "als = ALS()#.setMaxIter(10).setRank(10).setRegParam(1)"
   ]
  },
  {
   "cell_type": "code",
   "execution_count": null,
   "id": "3e76bbb8-7b07-40bc-be0b-e412782485e3",
   "metadata": {},
   "outputs": [],
   "source": [
    "model = als.fit(spark_train)"
   ]
  },
  {
   "cell_type": "code",
   "execution_count": null,
   "id": "64990e3c-fa05-4d4c-852d-cdc95217825a",
   "metadata": {},
   "outputs": [],
   "source": [
    "u = pd.DataFrame(model.userFactors.collect())\n",
    "item = pd.DataFrame(model.itemFactors.collect())"
   ]
  },
  {
   "cell_type": "code",
   "execution_count": null,
   "id": "cff4a1e1-0591-4557-af33-ca916da05972",
   "metadata": {},
   "outputs": [],
   "source": [
    "spark_test = spark.createDataFrame(test)\n",
    "res = pd.DataFrame(model.transform(spark_val).collect(),columns = [\"uId\",\"mId\",\"r\",\"r1\"])\n",
    "res"
   ]
  },
  {
   "cell_type": "code",
   "execution_count": 61,
   "id": "45d8905b-ecff-4b4a-bd5d-4f680bcb8b82",
   "metadata": {},
   "outputs": [],
   "source": [
    "res = res.fillna(0)"
   ]
  },
  {
   "cell_type": "markdown",
   "id": "629c8c21-0dd7-484a-ab2c-776d4531b2a2",
   "metadata": {},
   "source": [
    "### Embeddings"
   ]
  },
  {
   "cell_type": "code",
   "execution_count": null,
   "id": "edb409c5-fc6d-45eb-9d16-dc75fb89ddeb",
   "metadata": {},
   "outputs": [],
   "source": [
    "u = pd.DataFrame(model.userFactors.collect())\n",
    "item = pd.DataFrame(model.itemFactors.collect())"
   ]
  },
  {
   "cell_type": "markdown",
   "id": "d3eb8217-162a-4405-bf65-998218685228",
   "metadata": {},
   "source": [
    "### Evaluation"
   ]
  },
  {
   "cell_type": "code",
   "execution_count": 63,
   "id": "532667a0-403c-4d2f-91cf-9afa0ed62070",
   "metadata": {},
   "outputs": [],
   "source": [
    "from sklearn.metrics import precision_score"
   ]
  },
  {
   "cell_type": "markdown",
   "id": "9d4f8669-5b0a-4e4f-936f-d7e40f1be8ff",
   "metadata": {},
   "source": [
    "RMSE"
   ]
  },
  {
   "cell_type": "code",
   "execution_count": 64,
   "id": "c903f037-84bf-4d09-b63c-acde0973e94b",
   "metadata": {},
   "outputs": [
    {
     "data": {
      "text/plain": [
       "1.9264351246960887"
      ]
     },
     "execution_count": 64,
     "metadata": {},
     "output_type": "execute_result"
    }
   ],
   "source": [
    "((res['r']-res['r1'])**2).sum()/len(res)"
   ]
  },
  {
   "cell_type": "code",
   "execution_count": 72,
   "id": "5438fb86-8ee1-41b8-b539-64c4b7c4246f",
   "metadata": {},
   "outputs": [],
   "source": [
    "res['r'] = res['r'].astype('int32')\n",
    "res['r1'] = res['r1'].astype('int32')"
   ]
  },
  {
   "cell_type": "markdown",
   "id": "afa1fdaa-57b4-44f0-b24e-ccf1d9f0e454",
   "metadata": {},
   "source": [
    "Precision:"
   ]
  },
  {
   "cell_type": "code",
   "execution_count": 75,
   "id": "a2d39e88-b018-4a5b-9196-cfe0bcb8bccf",
   "metadata": {},
   "outputs": [
    {
     "data": {
      "text/plain": [
       "0.3112624360088863"
      ]
     },
     "execution_count": 75,
     "metadata": {},
     "output_type": "execute_result"
    }
   ],
   "source": [
    "precision_score(res['r'],res['r1'],average = 'micro')"
   ]
  },
  {
   "cell_type": "markdown",
   "id": "283cc4cf-a4d2-4f0a-8b3a-4b6f91079c60",
   "metadata": {
    "tags": []
   },
   "source": [
    "## Model draft"
   ]
  },
  {
   "cell_type": "code",
   "execution_count": 11,
   "id": "213dbc01-0fc1-4141-854d-4eeadaf4d614",
   "metadata": {},
   "outputs": [],
   "source": [
    "from sklearn.preprocessing import OneHotEncoder\n",
    "from sklearn.decomposition import PCA\n",
    "from sklearn.decomposition import SparsePCA\n",
    "\n",
    "class IdProcess():\n",
    "    def __init__(self,pca_size):\n",
    "        self.enc = OneHotEncoder(handle_unknown='ignore')\n",
    "        self.pca = PCA(pca_size)\n",
    "    \n",
    "    def fit(self,data):\n",
    "        self.enc = self.enc.fit(data)\n",
    "        data = self.enc.transform(data).toarray()\n",
    "        if data.shape[1]>1000:\n",
    "            data = data[:9000]\n",
    "        self.pca.fit(data)\n",
    "        \n",
    "    def transform(self,data):\n",
    "        data = self.enc.transform(data).toarray()\n",
    "        data = self.pca.transform(data)\n",
    "        return data"
   ]
  },
  {
   "cell_type": "code",
   "execution_count": 19,
   "id": "edecbd21-7d11-4d9f-bfc0-a44dfb022610",
   "metadata": {},
   "outputs": [],
   "source": [
    "t_user = np.array(train.user).reshape(-1,1)\n",
    "test_user = np.array(test.user).reshape(-1,1)\n",
    "proc = IdProcess(200)\n",
    "\n",
    "proc.fit(t_user)\n",
    "#proc.transform(test_user[[1]])"
   ]
  },
  {
   "cell_type": "code",
   "execution_count": 15,
   "id": "096ec1f4-0d9c-4e02-b13b-1a40a5c2ea91",
   "metadata": {},
   "outputs": [],
   "source": [
    "users,movies = df.userId.unique(), df.movieId.unique()"
   ]
  },
  {
   "cell_type": "code",
   "execution_count": 25,
   "id": "6b054367-4b47-4a16-9409-5d837247be8a",
   "metadata": {},
   "outputs": [],
   "source": [
    "users_transform = proc.transform(np.array(users).reshape(-1,1))"
   ]
  },
  {
   "cell_type": "code",
   "execution_count": null,
   "id": "ae274f4a-9177-47dc-850f-86f3b902ea2a",
   "metadata": {},
   "outputs": [],
   "source": [
    "t_user = np.array(train.item).reshape(-1,1)\n",
    "test_user = np.array(test.item).reshape(-1,1)\n",
    "proc = IdProcess(1000)\n",
    "\n",
    "proc.fit(t_user)\n",
    "proc.transform(test_user[[1]])"
   ]
  },
  {
   "cell_type": "code",
   "execution_count": 26,
   "id": "27037fe8-14d9-4565-8db7-e4b8fa4666c7",
   "metadata": {},
   "outputs": [],
   "source": [
    "movies_transform = proc.transform(np.array(movies).reshape(-1,1))"
   ]
  },
  {
   "cell_type": "code",
   "execution_count": null,
   "id": "06ea3422-b104-4e4e-bf2e-2c2998a8f4ab",
   "metadata": {},
   "outputs": [],
   "source": [
    "import torch\n",
    "from torch import nn"
   ]
  },
  {
   "cell_type": "code",
   "execution_count": null,
   "id": "996d7bb7-7a1c-49be-a3cb-ff0bfdfff3df",
   "metadata": {},
   "outputs": [],
   "source": [
    "class User_Embeding(nn.Module):\n",
    "    def __init__(self):\n",
    "        self.user_embedding = torch.nn.Embedding(n_users, 15)\n",
    "        self.linear1 = torch.nn.Linear()\n",
    "        self.linear2 = torch.nn.Linear()\n",
    "        self.linear3 = torch.nn.Linear()\n",
    "    \n",
    "    def forward(self, uID,uData):\n",
    "        data = self.user_embedding(uData)\n",
    "        uID = self.linear1(uID)\n",
    "        data = self.linear2(data)\n",
    "        data = uID + data\n",
    "        data = self.linear3(data)\n",
    "        \n",
    "        return data\n",
    "    \n",
    "class Item_Embeding(nn.Module):\n",
    "    def __init__(self):\n",
    "        self.user_embedding = torch.nn.Embedding(n_users, 15)\n",
    "        self.linear1 = torch.nn.Linear()\n",
    "        self.linear2 = torch.nn.Linear()\n",
    "        self.linear3 = torch.nn.Linear()\n",
    "    \n",
    "    def forward(self, uID,uData):\n",
    "        data = self.user_embedding(uData)\n",
    "        uID = self.linear1(uID)\n",
    "        data = self.linear2(data)\n",
    "        data = uID + data\n",
    "        data = self.linear3(data)\n",
    "        \n",
    "        return data\n",
    "\n",
    "# model_item = Item_Embeding()\n",
    "# model_user = User_Embeding()\n",
    "\n",
    "# r = model_user(id = 1)@model_item(id = 100)\n",
    "# loss = (r - r_true)**2/batch_size"
   ]
  }
 ],
 "metadata": {
  "kernelspec": {
   "display_name": "Python 3 (ipykernel)",
   "language": "python",
   "name": "python3"
  },
  "language_info": {
   "codemirror_mode": {
    "name": "ipython",
    "version": 3
   },
   "file_extension": ".py",
   "mimetype": "text/x-python",
   "name": "python",
   "nbconvert_exporter": "python",
   "pygments_lexer": "ipython3",
   "version": "3.10.9"
  }
 },
 "nbformat": 4,
 "nbformat_minor": 5
}
